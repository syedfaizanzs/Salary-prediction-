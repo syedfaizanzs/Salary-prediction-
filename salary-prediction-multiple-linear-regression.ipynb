{
 "cells": [
  {
   "cell_type": "code",
   "execution_count": 1,
   "id": "0717aa88",
   "metadata": {
    "_cell_guid": "b1076dfc-b9ad-4769-8c92-a6c4dae69d19",
    "_uuid": "8f2839f25d086af736a60e9eeb907d3b93b6e0e5",
    "execution": {
     "iopub.execute_input": "2023-12-10T18:32:44.233898Z",
     "iopub.status.busy": "2023-12-10T18:32:44.232973Z",
     "iopub.status.idle": "2023-12-10T18:32:45.142309Z",
     "shell.execute_reply": "2023-12-10T18:32:45.140933Z"
    },
    "papermill": {
     "duration": 0.920595,
     "end_time": "2023-12-10T18:32:45.145549",
     "exception": false,
     "start_time": "2023-12-10T18:32:44.224954",
     "status": "completed"
    },
    "tags": []
   },
   "outputs": [],
   "source": [
    "import pandas as pd\n",
    "data_frame = pd.read_csv(\"/kaggle/input/salaly-prediction-for-beginer/Salary Data.csv\")"
   ]
  },
  {
   "cell_type": "code",
   "execution_count": 2,
   "id": "481060a2",
   "metadata": {
    "execution": {
     "iopub.execute_input": "2023-12-10T18:32:45.159851Z",
     "iopub.status.busy": "2023-12-10T18:32:45.159442Z",
     "iopub.status.idle": "2023-12-10T18:32:45.181391Z",
     "shell.execute_reply": "2023-12-10T18:32:45.180037Z"
    },
    "papermill": {
     "duration": 0.032518,
     "end_time": "2023-12-10T18:32:45.184306",
     "exception": false,
     "start_time": "2023-12-10T18:32:45.151788",
     "status": "completed"
    },
    "tags": []
   },
   "outputs": [
    {
     "data": {
      "text/plain": [
       "Age                    0\n",
       "Gender                 0\n",
       "Education Level        0\n",
       "Job Title              0\n",
       "Years of Experience    0\n",
       "Salary                 0\n",
       "dtype: int64"
      ]
     },
     "execution_count": 2,
     "metadata": {},
     "output_type": "execute_result"
    }
   ],
   "source": [
    "data_frame = data_frame.dropna()\n",
    "data_frame.isnull().sum()"
   ]
  },
  {
   "cell_type": "code",
   "execution_count": 3,
   "id": "52f8f346",
   "metadata": {
    "execution": {
     "iopub.execute_input": "2023-12-10T18:32:45.197600Z",
     "iopub.status.busy": "2023-12-10T18:32:45.197174Z",
     "iopub.status.idle": "2023-12-10T18:32:45.221008Z",
     "shell.execute_reply": "2023-12-10T18:32:45.219687Z"
    },
    "papermill": {
     "duration": 0.033538,
     "end_time": "2023-12-10T18:32:45.223654",
     "exception": false,
     "start_time": "2023-12-10T18:32:45.190116",
     "status": "completed"
    },
    "tags": []
   },
   "outputs": [],
   "source": [
    "data_frame['Gender'] = data_frame['Gender'].astype('category')\n",
    "data_frame['Gender'] = data_frame['Gender'].cat.codes\n",
    "\n",
    "data_frame['Education Level'] = data_frame['Education Level'].astype('category')\n",
    "data_frame['Education Level'] = data_frame['Education Level'].cat.codes\n",
    "\n",
    "data_frame['Job Title'] = data_frame['Job Title'].astype('category')\n",
    "data_frame['Job Title'] = data_frame['Job Title'].cat.codes\n",
    "\n",
    "data_frame['Gender'] = data_frame['Gender'].astype('category')\n",
    "data_frame['Gender'] = data_frame['Gender'].cat.codes"
   ]
  },
  {
   "cell_type": "code",
   "execution_count": 4,
   "id": "fe1c29b1",
   "metadata": {
    "execution": {
     "iopub.execute_input": "2023-12-10T18:32:45.237600Z",
     "iopub.status.busy": "2023-12-10T18:32:45.236822Z",
     "iopub.status.idle": "2023-12-10T18:32:45.246516Z",
     "shell.execute_reply": "2023-12-10T18:32:45.245312Z"
    },
    "papermill": {
     "duration": 0.020109,
     "end_time": "2023-12-10T18:32:45.249485",
     "exception": false,
     "start_time": "2023-12-10T18:32:45.229376",
     "status": "completed"
    },
    "tags": []
   },
   "outputs": [],
   "source": [
    "X = data_frame.drop(columns = 'Salary')"
   ]
  },
  {
   "cell_type": "code",
   "execution_count": 5,
   "id": "c0cf8c38",
   "metadata": {
    "execution": {
     "iopub.execute_input": "2023-12-10T18:32:45.264006Z",
     "iopub.status.busy": "2023-12-10T18:32:45.263256Z",
     "iopub.status.idle": "2023-12-10T18:32:45.267918Z",
     "shell.execute_reply": "2023-12-10T18:32:45.267079Z"
    },
    "papermill": {
     "duration": 0.014769,
     "end_time": "2023-12-10T18:32:45.270369",
     "exception": false,
     "start_time": "2023-12-10T18:32:45.255600",
     "status": "completed"
    },
    "tags": []
   },
   "outputs": [],
   "source": [
    "y = data_frame[\"Salary\"]"
   ]
  },
  {
   "cell_type": "code",
   "execution_count": 6,
   "id": "7e622d14",
   "metadata": {
    "execution": {
     "iopub.execute_input": "2023-12-10T18:32:45.284860Z",
     "iopub.status.busy": "2023-12-10T18:32:45.284146Z",
     "iopub.status.idle": "2023-12-10T18:32:46.769505Z",
     "shell.execute_reply": "2023-12-10T18:32:46.768579Z"
    },
    "papermill": {
     "duration": 1.495932,
     "end_time": "2023-12-10T18:32:46.772397",
     "exception": false,
     "start_time": "2023-12-10T18:32:45.276465",
     "status": "completed"
    },
    "tags": []
   },
   "outputs": [],
   "source": [
    "from sklearn.model_selection import train_test_split\n",
    "X_train, X_valid, y_train, y_valid = train_test_split(X, y, train_size = 0.8, test_size = 0.2, random_state=0)"
   ]
  },
  {
   "cell_type": "code",
   "execution_count": 7,
   "id": "67853760",
   "metadata": {
    "execution": {
     "iopub.execute_input": "2023-12-10T18:32:46.788350Z",
     "iopub.status.busy": "2023-12-10T18:32:46.787908Z",
     "iopub.status.idle": "2023-12-10T18:32:46.985041Z",
     "shell.execute_reply": "2023-12-10T18:32:46.983748Z"
    },
    "papermill": {
     "duration": 0.208346,
     "end_time": "2023-12-10T18:32:46.988448",
     "exception": false,
     "start_time": "2023-12-10T18:32:46.780102",
     "status": "completed"
    },
    "tags": []
   },
   "outputs": [],
   "source": [
    "from sklearn.linear_model import LinearRegression\n",
    "LR = LinearRegression()"
   ]
  },
  {
   "cell_type": "code",
   "execution_count": 8,
   "id": "a48ce58b",
   "metadata": {
    "execution": {
     "iopub.execute_input": "2023-12-10T18:32:47.003073Z",
     "iopub.status.busy": "2023-12-10T18:32:47.002523Z",
     "iopub.status.idle": "2023-12-10T18:32:47.047138Z",
     "shell.execute_reply": "2023-12-10T18:32:47.045873Z"
    },
    "papermill": {
     "duration": 0.055445,
     "end_time": "2023-12-10T18:32:47.050118",
     "exception": false,
     "start_time": "2023-12-10T18:32:46.994673",
     "status": "completed"
    },
    "tags": []
   },
   "outputs": [
    {
     "data": {
      "text/html": [
       "<style>#sk-container-id-1 {color: black;background-color: white;}#sk-container-id-1 pre{padding: 0;}#sk-container-id-1 div.sk-toggleable {background-color: white;}#sk-container-id-1 label.sk-toggleable__label {cursor: pointer;display: block;width: 100%;margin-bottom: 0;padding: 0.3em;box-sizing: border-box;text-align: center;}#sk-container-id-1 label.sk-toggleable__label-arrow:before {content: \"▸\";float: left;margin-right: 0.25em;color: #696969;}#sk-container-id-1 label.sk-toggleable__label-arrow:hover:before {color: black;}#sk-container-id-1 div.sk-estimator:hover label.sk-toggleable__label-arrow:before {color: black;}#sk-container-id-1 div.sk-toggleable__content {max-height: 0;max-width: 0;overflow: hidden;text-align: left;background-color: #f0f8ff;}#sk-container-id-1 div.sk-toggleable__content pre {margin: 0.2em;color: black;border-radius: 0.25em;background-color: #f0f8ff;}#sk-container-id-1 input.sk-toggleable__control:checked~div.sk-toggleable__content {max-height: 200px;max-width: 100%;overflow: auto;}#sk-container-id-1 input.sk-toggleable__control:checked~label.sk-toggleable__label-arrow:before {content: \"▾\";}#sk-container-id-1 div.sk-estimator input.sk-toggleable__control:checked~label.sk-toggleable__label {background-color: #d4ebff;}#sk-container-id-1 div.sk-label input.sk-toggleable__control:checked~label.sk-toggleable__label {background-color: #d4ebff;}#sk-container-id-1 input.sk-hidden--visually {border: 0;clip: rect(1px 1px 1px 1px);clip: rect(1px, 1px, 1px, 1px);height: 1px;margin: -1px;overflow: hidden;padding: 0;position: absolute;width: 1px;}#sk-container-id-1 div.sk-estimator {font-family: monospace;background-color: #f0f8ff;border: 1px dotted black;border-radius: 0.25em;box-sizing: border-box;margin-bottom: 0.5em;}#sk-container-id-1 div.sk-estimator:hover {background-color: #d4ebff;}#sk-container-id-1 div.sk-parallel-item::after {content: \"\";width: 100%;border-bottom: 1px solid gray;flex-grow: 1;}#sk-container-id-1 div.sk-label:hover label.sk-toggleable__label {background-color: #d4ebff;}#sk-container-id-1 div.sk-serial::before {content: \"\";position: absolute;border-left: 1px solid gray;box-sizing: border-box;top: 0;bottom: 0;left: 50%;z-index: 0;}#sk-container-id-1 div.sk-serial {display: flex;flex-direction: column;align-items: center;background-color: white;padding-right: 0.2em;padding-left: 0.2em;position: relative;}#sk-container-id-1 div.sk-item {position: relative;z-index: 1;}#sk-container-id-1 div.sk-parallel {display: flex;align-items: stretch;justify-content: center;background-color: white;position: relative;}#sk-container-id-1 div.sk-item::before, #sk-container-id-1 div.sk-parallel-item::before {content: \"\";position: absolute;border-left: 1px solid gray;box-sizing: border-box;top: 0;bottom: 0;left: 50%;z-index: -1;}#sk-container-id-1 div.sk-parallel-item {display: flex;flex-direction: column;z-index: 1;position: relative;background-color: white;}#sk-container-id-1 div.sk-parallel-item:first-child::after {align-self: flex-end;width: 50%;}#sk-container-id-1 div.sk-parallel-item:last-child::after {align-self: flex-start;width: 50%;}#sk-container-id-1 div.sk-parallel-item:only-child::after {width: 0;}#sk-container-id-1 div.sk-dashed-wrapped {border: 1px dashed gray;margin: 0 0.4em 0.5em 0.4em;box-sizing: border-box;padding-bottom: 0.4em;background-color: white;}#sk-container-id-1 div.sk-label label {font-family: monospace;font-weight: bold;display: inline-block;line-height: 1.2em;}#sk-container-id-1 div.sk-label-container {text-align: center;}#sk-container-id-1 div.sk-container {/* jupyter's `normalize.less` sets `[hidden] { display: none; }` but bootstrap.min.css set `[hidden] { display: none !important; }` so we also need the `!important` here to be able to override the default hidden behavior on the sphinx rendered scikit-learn.org. See: https://github.com/scikit-learn/scikit-learn/issues/21755 */display: inline-block !important;position: relative;}#sk-container-id-1 div.sk-text-repr-fallback {display: none;}</style><div id=\"sk-container-id-1\" class=\"sk-top-container\"><div class=\"sk-text-repr-fallback\"><pre>LinearRegression()</pre><b>In a Jupyter environment, please rerun this cell to show the HTML representation or trust the notebook. <br />On GitHub, the HTML representation is unable to render, please try loading this page with nbviewer.org.</b></div><div class=\"sk-container\" hidden><div class=\"sk-item\"><div class=\"sk-estimator sk-toggleable\"><input class=\"sk-toggleable__control sk-hidden--visually\" id=\"sk-estimator-id-1\" type=\"checkbox\" checked><label for=\"sk-estimator-id-1\" class=\"sk-toggleable__label sk-toggleable__label-arrow\">LinearRegression</label><div class=\"sk-toggleable__content\"><pre>LinearRegression()</pre></div></div></div></div></div>"
      ],
      "text/plain": [
       "LinearRegression()"
      ]
     },
     "execution_count": 8,
     "metadata": {},
     "output_type": "execute_result"
    }
   ],
   "source": [
    "LR.fit(X_train, y_train)"
   ]
  },
  {
   "cell_type": "code",
   "execution_count": 9,
   "id": "64cad1b1",
   "metadata": {
    "execution": {
     "iopub.execute_input": "2023-12-10T18:32:47.064932Z",
     "iopub.status.busy": "2023-12-10T18:32:47.064520Z",
     "iopub.status.idle": "2023-12-10T18:32:47.072132Z",
     "shell.execute_reply": "2023-12-10T18:32:47.070700Z"
    },
    "papermill": {
     "duration": 0.01802,
     "end_time": "2023-12-10T18:32:47.074691",
     "exception": false,
     "start_time": "2023-12-10T18:32:47.056671",
     "status": "completed"
    },
    "tags": []
   },
   "outputs": [],
   "source": [
    "y_pred_train = LR.predict(X_train)"
   ]
  },
  {
   "cell_type": "code",
   "execution_count": 10,
   "id": "cd122d1d",
   "metadata": {
    "execution": {
     "iopub.execute_input": "2023-12-10T18:32:47.089327Z",
     "iopub.status.busy": "2023-12-10T18:32:47.088908Z",
     "iopub.status.idle": "2023-12-10T18:32:47.443506Z",
     "shell.execute_reply": "2023-12-10T18:32:47.442017Z"
    },
    "papermill": {
     "duration": 0.365608,
     "end_time": "2023-12-10T18:32:47.446502",
     "exception": false,
     "start_time": "2023-12-10T18:32:47.080894",
     "status": "completed"
    },
    "tags": []
   },
   "outputs": [
    {
     "data": {
      "image/png": "[encoded data removed]",
      "text/plain": [
       "<Figure size 640x480 with 1 Axes>"
      ]
     },
     "metadata": {},
     "output_type": "display_data"
    }
   ],
   "source": [
    "import matplotlib.pyplot as plt\n",
    "plt.scatter(y_train, y_pred_train)\n",
    "plt.xlabel(\"Real salary\")\n",
    "plt.ylabel(\"Predicted salary\")\n",
    "plt.show()"
   ]
  },
  {
   "cell_type": "code",
   "execution_count": 11,
   "id": "d40f15ed",
   "metadata": {
    "execution": {
     "iopub.execute_input": "2023-12-10T18:32:47.462417Z",
     "iopub.status.busy": "2023-12-10T18:32:47.462011Z",
     "iopub.status.idle": "2023-12-10T18:32:47.470271Z",
     "shell.execute_reply": "2023-12-10T18:32:47.468884Z"
    },
    "papermill": {
     "duration": 0.019447,
     "end_time": "2023-12-10T18:32:47.473027",
     "exception": false,
     "start_time": "2023-12-10T18:32:47.453580",
     "status": "completed"
    },
    "tags": []
   },
   "outputs": [
    {
     "name": "stdout",
     "output_type": "stream",
     "text": [
      "0.8970064362242435\n"
     ]
    }
   ],
   "source": [
    "# accuracy of training dataset\n",
    "from sklearn.metrics import r2_score\n",
    "print(r2_score(y_train, y_pred_train))"
   ]
  },
  {
   "cell_type": "code",
   "execution_count": 12,
   "id": "e99ede6d",
   "metadata": {
    "execution": {
     "iopub.execute_input": "2023-12-10T18:32:47.489073Z",
     "iopub.status.busy": "2023-12-10T18:32:47.488665Z",
     "iopub.status.idle": "2023-12-10T18:32:47.496806Z",
     "shell.execute_reply": "2023-12-10T18:32:47.495489Z"
    },
    "papermill": {
     "duration": 0.019266,
     "end_time": "2023-12-10T18:32:47.499318",
     "exception": false,
     "start_time": "2023-12-10T18:32:47.480052",
     "status": "completed"
    },
    "tags": []
   },
   "outputs": [],
   "source": [
    "y_pred_test = LR.predict(X_valid)"
   ]
  },
  {
   "cell_type": "code",
   "execution_count": 13,
   "id": "10cdfd2d",
   "metadata": {
    "execution": {
     "iopub.execute_input": "2023-12-10T18:32:47.515632Z",
     "iopub.status.busy": "2023-12-10T18:32:47.515211Z",
     "iopub.status.idle": "2023-12-10T18:32:47.806611Z",
     "shell.execute_reply": "2023-12-10T18:32:47.805120Z"
    },
    "papermill": {
     "duration": 0.302972,
     "end_time": "2023-12-10T18:32:47.809551",
     "exception": false,
     "start_time": "2023-12-10T18:32:47.506579",
     "status": "completed"
    },
    "tags": []
   },
   "outputs": [
    {
     "data": {
      "image/png": "[encoded data removed]",
      "text/plain": [
       "<Figure size 640x480 with 1 Axes>"
      ]
     },
     "metadata": {},
     "output_type": "display_data"
    }
   ],
   "source": [
    "plt.scatter(y_valid, y_pred_test)\n",
    "plt.xlabel(\"Real salary\")\n",
    "plt.ylabel(\"Predicted salary\")\n",
    "plt.show()"
   ]
  },
  {
   "cell_type": "code",
   "execution_count": 14,
   "id": "5844a9a8",
   "metadata": {
    "execution": {
     "iopub.execute_input": "2023-12-10T18:32:47.827948Z",
     "iopub.status.busy": "2023-12-10T18:32:47.827049Z",
     "iopub.status.idle": "2023-12-10T18:32:47.834917Z",
     "shell.execute_reply": "2023-12-10T18:32:47.833651Z"
    },
    "papermill": {
     "duration": 0.020277,
     "end_time": "2023-12-10T18:32:47.837699",
     "exception": false,
     "start_time": "2023-12-10T18:32:47.817422",
     "status": "completed"
    },
    "tags": []
   },
   "outputs": [
    {
     "name": "stdout",
     "output_type": "stream",
     "text": [
      "0.9169805443702947\n"
     ]
    }
   ],
   "source": [
    "# accuracy of testing dataset\n",
    "from sklearn.metrics import r2_score\n",
    "print(r2_score(y_valid, y_pred_test))"
   ]
  }
 ],
 "metadata": {
  "kaggle": {
   "accelerator": "none",
   "dataSources": [
    {
     "datasetId": 2973025,
     "sourceId": 5119031,
     "sourceType": "datasetVersion"
    }
   ],
   "dockerImageVersionId": 30615,
   "isGpuEnabled": false,
   "isInternetEnabled": false,
   "language": "python",
   "sourceType": "notebook"
  },
  "kernelspec": {
   "display_name": "Python 3",
   "language": "python",
   "name": "python3"
  },
  "language_info": {
   "codemirror_mode": {
    "name": "ipython",
    "version": 3
   },
   "file_extension": ".py",
   "mimetype": "text/x-python",
   "name": "python",
   "nbconvert_exporter": "python",
   "pygments_lexer": "ipython3",
   "version": "3.10.12"
  },
  "papermill": {
   "default_parameters": {},
   "duration": 9.139823,
   "end_time": "2023-12-10T18:32:48.471912",
   "environment_variables": {},
   "exception": null,
   "input_path": "__notebook__.ipynb",
   "output_path": "__notebook__.ipynb",
   "parameters": {},
   "start_time": "2023-12-10T18:32:39.332089",
   "version": "2.4.0"
  }
 },
 "nbformat": 4,
 "nbformat_minor": 5
}
